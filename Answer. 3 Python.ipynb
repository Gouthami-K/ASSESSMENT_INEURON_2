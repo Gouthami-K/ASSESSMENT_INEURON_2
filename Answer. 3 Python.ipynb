{
 "cells": [
  {
   "cell_type": "markdown",
   "id": "84a55848",
   "metadata": {},
   "source": [
    "# Question: 3\n",
    "\n",
    "Mr. Karthiken works in a door mat manufacturing company. One day, he designed a new door mat with the following specifications:\n",
    "\n",
    "a) Mat size must be N X M. (N is an odd natural number, and M is 3 times N.)\n",
    "b) The design should have ‘WELCOME’ written in the center.\n",
    "c) The design pattern should only use |, . and – characters.\n",
    "\n",
    "Sample Design is given above image, Write a python code for this."
   ]
  },
  {
   "cell_type": "code",
   "execution_count": 2,
   "id": "71870603",
   "metadata": {},
   "outputs": [],
   "source": [
    "def door_mat_pattern(N, M):\n",
    "   \n",
    "    for i in range(1, N, 2):\n",
    "        pattern = \".|.\" * i\n",
    "        print(pattern.center(M, '-'))\n",
    "\n",
    "    \n",
    "    print(\"WELCOME\".center(M, '-'))\n",
    "\n",
    "    \n",
    "    for i in range(N - 2, 0, -2):\n",
    "        pattern = \".|.\" * i\n",
    "        print(pattern.center(M, '-'))"
   ]
  },
  {
   "cell_type": "code",
   "execution_count": 3,
   "id": "bbc73ef2",
   "metadata": {},
   "outputs": [
    {
     "name": "stdout",
     "output_type": "stream",
     "text": [
      "---------.|.---------\n",
      "------.|..|..|.------\n",
      "---.|..|..|..|..|.---\n",
      "-------WELCOME-------\n",
      "---.|..|..|..|..|.---\n",
      "------.|..|..|.------\n",
      "---------.|.---------\n"
     ]
    }
   ],
   "source": [
    "N = 7\n",
    "M = 21\n",
    "door_mat_pattern(N, M)"
   ]
  },
  {
   "cell_type": "code",
   "execution_count": 4,
   "id": "af2dec64",
   "metadata": {},
   "outputs": [
    {
     "name": "stdout",
     "output_type": "stream",
     "text": [
      "---------------.|.---------------\n",
      "------------.|..|..|.------------\n",
      "---------.|..|..|..|..|.---------\n",
      "------.|..|..|..|..|..|..|.------\n",
      "---.|..|..|..|..|..|..|..|..|.---\n",
      "-------------WELCOME-------------\n",
      "---.|..|..|..|..|..|..|..|..|.---\n",
      "------.|..|..|..|..|..|..|.------\n",
      "---------.|..|..|..|..|.---------\n",
      "------------.|..|..|.------------\n",
      "---------------.|.---------------\n"
     ]
    }
   ],
   "source": [
    "N = 11\n",
    "M = 33\n",
    "door_mat_pattern(N, M)"
   ]
  },
  {
   "cell_type": "code",
   "execution_count": null,
   "id": "cb7bdf17",
   "metadata": {},
   "outputs": [],
   "source": []
  }
 ],
 "metadata": {
  "kernelspec": {
   "display_name": "Python 3 (ipykernel)",
   "language": "python",
   "name": "python3"
  },
  "language_info": {
   "codemirror_mode": {
    "name": "ipython",
    "version": 3
   },
   "file_extension": ".py",
   "mimetype": "text/x-python",
   "name": "python",
   "nbconvert_exporter": "python",
   "pygments_lexer": "ipython3",
   "version": "3.10.9"
  }
 },
 "nbformat": 4,
 "nbformat_minor": 5
}
