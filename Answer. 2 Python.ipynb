{
 "cells": [
  {
   "cell_type": "markdown",
   "id": "d47a0959",
   "metadata": {},
   "source": [
    "# Question: 2\n",
    "\n",
    "\n",
    "Given an array of length ‘N’, where each element denotes the position of a stall. Now you have ‘N’ stalls and an integer ‘K’ which denotes the number of horses that are mad. To prevent the horses from hurting each other, you need to assign the horses to the stalls, such that the minimum distance between any two of them is as large as possible. Return the largest minimum distance.\n",
    "\n",
    "array: 1,2,4,8,9  &  k=3\n",
    "\n",
    "O/P: 3\n",
    "\n",
    "Explanation: 1st horse at stall 1, 2nd horse at stall 4 and 3rd horse at stall 8"
   ]
  },
  {
   "cell_type": "code",
   "execution_count": 2,
   "id": "91699ebe",
   "metadata": {},
   "outputs": [],
   "source": [
    "def max_min_distance(stalls, k):\n",
    "    stalls.sort()\n",
    "\n",
    "    def is_valid(mid):\n",
    "        count_horses = 1\n",
    "        last_position = stalls[0]\n",
    "\n",
    "        for stall in stalls:\n",
    "            if stall - last_position >= mid:\n",
    "                count_horses += 1\n",
    "                last_position = stall\n",
    "\n",
    "        return count_horses >= k\n",
    "\n",
    "    left, right = 0, stalls[-1] - stalls[0]\n",
    "\n",
    "    while left < right:\n",
    "        mid = (left + right) // 2\n",
    "\n",
    "        if is_valid(mid):\n",
    "            left = mid + 1\n",
    "        else:\n",
    "            right = mid\n",
    "\n",
    "    return left - 1"
   ]
  },
  {
   "cell_type": "code",
   "execution_count": 3,
   "id": "eb545870",
   "metadata": {},
   "outputs": [
    {
     "name": "stdout",
     "output_type": "stream",
     "text": [
      "3\n"
     ]
    }
   ],
   "source": [
    "stlls = [1, 2, 4, 8, 9]\n",
    "k = 3\n",
    "result = max_min_distance(stalls, k)\n",
    "print(result)"
   ]
  },
  {
   "cell_type": "code",
   "execution_count": null,
   "id": "c4538d54",
   "metadata": {},
   "outputs": [],
   "source": []
  }
 ],
 "metadata": {
  "kernelspec": {
   "display_name": "Python 3 (ipykernel)",
   "language": "python",
   "name": "python3"
  },
  "language_info": {
   "codemirror_mode": {
    "name": "ipython",
    "version": 3
   },
   "file_extension": ".py",
   "mimetype": "text/x-python",
   "name": "python",
   "nbconvert_exporter": "python",
   "pygments_lexer": "ipython3",
   "version": "3.10.9"
  }
 },
 "nbformat": 4,
 "nbformat_minor": 5
}
