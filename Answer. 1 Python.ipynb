{
 "cells": [
  {
   "cell_type": "markdown",
   "id": "b844b970",
   "metadata": {},
   "source": [
    "# Question: 1\n",
    "\n",
    "\n",
    "You have an input dictionary given,\n",
    "\n",
    "input_dict = {\"abc\":{\"def\":{\"ghi\":{\"jkl\":{\"mno\":{\"pqr\":{\"stu\":{\"vwx\":{\"yz\":\"you are finally here !!!\"}}}}}}}}}\n",
    "\n",
    "Task:  You have to write a Python function that will take this input and print it like that,\n",
    "\n",
    "output = {\"abc\":[\"def\",\"ghi\",\"jkl\",\"mno\",\"pqr\",\"stu\",\"vwx\",\"yz\"],\n",
    " \"def\":[\"ghi\",\"jkl\",\"mno\",\"pqr\",\"stu\",\"vwx\",\"yz\"],\n",
    " \"ghi\":[\"jkl\",\"mno\",\"pqr\",\"stu\",\"vwx\",\"yz\"],\n",
    " \"jkl\":[\"mno\",\"pqr\",\"stu\",\"vwx\",\"yz\"],\n",
    " \"mno\":[\"pqr\",\"stu\",\"vwx\",\"yz\"],\n",
    " \"pqr\":[\"stu\",\"vwx\",\"yz\"],\n",
    " \"stu\":[\"vwx\",\"yz\"],\n",
    " \"vwx\":[\"yz\"],\n",
    " \"yz\":[\"you are finally here !!!\"]}\n"
   ]
  },
  {
   "cell_type": "code",
   "execution_count": 1,
   "id": "0b018d76",
   "metadata": {},
   "outputs": [],
   "source": [
    "def transform_dict(input_dict, prefix=None):\n",
    "    if prefix is None:\n",
    "        prefix = []\n",
    "\n",
    "    output = {}\n",
    "\n",
    "    for key, value in input_dict.items():\n",
    "        new_prefix = prefix + [key]\n",
    "        if isinstance(value, dict):\n",
    "            sub_dict = transform_dict(value, new_prefix)\n",
    "            output[key] = list(sub_dict.keys())\n",
    "            output.update(sub_dict)\n",
    "        else:\n",
    "            output[key] = [repr(value).strip(\"'\")]\n",
    "\n",
    "    return output"
   ]
  },
  {
   "cell_type": "code",
   "execution_count": 2,
   "id": "17e88013",
   "metadata": {},
   "outputs": [],
   "source": [
    "input_dict = {\"abc\":{\"def\":{\"ghi\":{\"jkl\":{\"mno\":{\"pqr\":{\"stu\":{\"vwx\":{\"yz\":\"you are finally here !!!\"}}}}}}}}}"
   ]
  },
  {
   "cell_type": "code",
   "execution_count": 3,
   "id": "6f27411f",
   "metadata": {},
   "outputs": [
    {
     "name": "stdout",
     "output_type": "stream",
     "text": [
      "'abc': ['def', 'ghi', 'jkl', 'mno', 'pqr', 'stu', 'vwx', 'yz']\n",
      "'def': ['ghi', 'jkl', 'mno', 'pqr', 'stu', 'vwx', 'yz']\n",
      "'ghi': ['jkl', 'mno', 'pqr', 'stu', 'vwx', 'yz']\n",
      "'jkl': ['mno', 'pqr', 'stu', 'vwx', 'yz']\n",
      "'mno': ['pqr', 'stu', 'vwx', 'yz']\n",
      "'pqr': ['stu', 'vwx', 'yz']\n",
      "'stu': ['vwx', 'yz']\n",
      "'vwx': ['yz']\n",
      "'yz': ['you are finally here !!!']\n"
     ]
    }
   ],
   "source": [
    "output = transform_dict(input_dict)\n",
    "\n",
    "for key, value in output.items():\n",
    "    print(f\"{repr(key)}: {value}\")"
   ]
  },
  {
   "cell_type": "code",
   "execution_count": null,
   "id": "db9bd4e6",
   "metadata": {},
   "outputs": [],
   "source": []
  }
 ],
 "metadata": {
  "kernelspec": {
   "display_name": "Python 3 (ipykernel)",
   "language": "python",
   "name": "python3"
  },
  "language_info": {
   "codemirror_mode": {
    "name": "ipython",
    "version": 3
   },
   "file_extension": ".py",
   "mimetype": "text/x-python",
   "name": "python",
   "nbconvert_exporter": "python",
   "pygments_lexer": "ipython3",
   "version": "3.10.9"
  }
 },
 "nbformat": 4,
 "nbformat_minor": 5
}
